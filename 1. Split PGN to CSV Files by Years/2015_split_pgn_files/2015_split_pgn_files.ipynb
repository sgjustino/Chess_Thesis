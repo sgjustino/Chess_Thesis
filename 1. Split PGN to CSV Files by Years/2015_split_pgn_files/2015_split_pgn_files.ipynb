{
 "cells": [
  {
   "cell_type": "code",
   "execution_count": 1,
   "id": "75450ed9",
   "metadata": {
    "_cell_guid": "b1076dfc-b9ad-4769-8c92-a6c4dae69d19",
    "_uuid": "8f2839f25d086af736a60e9eeb907d3b93b6e0e5",
    "execution": {
     "iopub.execute_input": "2024-02-11T17:04:40.586862Z",
     "iopub.status.busy": "2024-02-11T17:04:40.586465Z",
     "iopub.status.idle": "2024-02-11T17:04:41.560718Z",
     "shell.execute_reply": "2024-02-11T17:04:41.559638Z"
    },
    "papermill": {
     "duration": 0.980694,
     "end_time": "2024-02-11T17:04:41.562755",
     "exception": false,
     "start_time": "2024-02-11T17:04:40.582061",
     "status": "completed"
    },
    "tags": []
   },
   "outputs": [
    {
     "name": "stdout",
     "output_type": "stream",
     "text": [
      "/kaggle/input/thesis-chess-dataset/fourthSorted.pgn\n"
     ]
    }
   ],
   "source": [
    "# This Python 3 environment comes with many helpful analytics libraries installed\n",
    "# It is defined by the kaggle/python Docker image: https://github.com/kaggle/docker-python\n",
    "# For example, here's several helpful packages to load\n",
    "\n",
    "import numpy as np # linear algebra\n",
    "import pandas as pd # data processing, CSV file I/O (e.g. pd.read_csv)\n",
    "\n",
    "# Input data files are available in the read-only \"../input/\" directory\n",
    "# For example, running this (by clicking run or pressing Shift+Enter) will list all files under the input directory\n",
    "\n",
    "import os\n",
    "for dirname, _, filenames in os.walk('/kaggle/input'):\n",
    "    for filename in filenames:\n",
    "        print(os.path.join(dirname, filename))\n",
    "\n",
    "# You can write up to 20GB to the current directory (/kaggle/working/) that gets preserved as output when you create a version using \"Save & Run All\" \n",
    "# You can also write temporary files to /kaggle/temp/, but they won't be saved outside of the current session"
   ]
  },
  {
   "cell_type": "code",
   "execution_count": 2,
   "id": "24af1e26",
   "metadata": {
    "execution": {
     "iopub.execute_input": "2024-02-11T17:04:41.571396Z",
     "iopub.status.busy": "2024-02-11T17:04:41.570315Z",
     "iopub.status.idle": "2024-02-11T17:05:26.132201Z",
     "shell.execute_reply": "2024-02-11T17:05:26.130478Z"
    },
    "papermill": {
     "duration": 44.567564,
     "end_time": "2024-02-11T17:05:26.134651",
     "exception": false,
     "start_time": "2024-02-11T17:04:41.567087",
     "status": "completed"
    },
    "tags": []
   },
   "outputs": [],
   "source": [
    "import os\n",
    "\n",
    "# Splits the PGN file into parts, each containing up to 'split_size' games from a specific year, and saves them to the output folder\n",
    "def split_and_filter_games_by_year(pgn_file_path, year, split_size, output_folder):\n",
    "    \n",
    "    os.makedirs(output_folder, exist_ok=True)\n",
    "    \n",
    "    current_file_number = 1\n",
    "    game_count = 0\n",
    "    current_file_path = os.path.join(output_folder, f\"games_2015_part_{current_file_number}.pgn\")\n",
    "    current_file = open(current_file_path, \"w\")\n",
    "    \n",
    "    with open(pgn_file_path, \"r\") as pgn:\n",
    "        game_lines = []  # Hold the lines of a game\n",
    "        for line in pgn:\n",
    "            if line.startswith('[Event '):\n",
    "                # Process the previous game\n",
    "                if game_lines:\n",
    "                    date_line = next((l for l in game_lines if l.startswith('[Date ')), '')\n",
    "                    game_year = date_line.split('\"')[1].split('.')[0]  # Extract the year part\n",
    "                    if game_year == year:\n",
    "                        game_count += 1\n",
    "                        if game_count > split_size:\n",
    "                            # Close current file and open a new one\n",
    "                            current_file.close()\n",
    "                            current_file_number += 1\n",
    "                            current_file_path = os.path.join(output_folder, f\"games_2015_part_{current_file_number}.pgn\")\n",
    "                            current_file = open(current_file_path, \"w\")\n",
    "                            game_count = 1  # Reset the count for the new file\n",
    "                        current_file.writelines(game_lines)\n",
    "                game_lines = [line]  # Start a new game\n",
    "            else:\n",
    "                game_lines.append(line)\n",
    "        \n",
    "        # Check for the last game in the file\n",
    "        if game_lines:\n",
    "            date_line = next((l for l in game_lines if l.startswith('[Date ')), '')\n",
    "            game_year = date_line.split('\"')[1].split('.')[0]\n",
    "            if game_year == year:\n",
    "                current_file.writelines(game_lines)\n",
    "                \n",
    "    current_file.close()  # Ensure the last file is closed after the loop finishes\n",
    "\n",
    "# Path to the directory containing the PGN file\n",
    "pgn_file_path = \"/kaggle/input/thesis-chess-dataset/fourthSorted.pgn\"\n",
    "# Selection of filter for year\n",
    "year = \"2015\"\n",
    "# File size for split by no. of games\n",
    "split_size = 10000\n",
    "\n",
    "output_folder = \"pgn_2015_data\"\n",
    "\n",
    "# Call the function\n",
    "split_and_filter_games_by_year(pgn_file_path, year, split_size, output_folder)"
   ]
  },
  {
   "cell_type": "code",
   "execution_count": 3,
   "id": "15355469",
   "metadata": {
    "execution": {
     "iopub.execute_input": "2024-02-11T17:05:26.140681Z",
     "iopub.status.busy": "2024-02-11T17:05:26.140286Z",
     "iopub.status.idle": "2024-02-11T17:05:41.210819Z",
     "shell.execute_reply": "2024-02-11T17:05:41.209930Z"
    },
    "papermill": {
     "duration": 15.075891,
     "end_time": "2024-02-11T17:05:41.212868",
     "exception": false,
     "start_time": "2024-02-11T17:05:26.136977",
     "status": "completed"
    },
    "tags": []
   },
   "outputs": [
    {
     "name": "stdout",
     "output_type": "stream",
     "text": [
      "Collecting converter\r\n",
      "  Downloading converter-1.0.0.zip (1.3 kB)\r\n",
      "  Preparing metadata (setup.py) ... \u001b[?25l-\b \bdone\r\n",
      "\u001b[?25hCollecting pgn2data\r\n",
      "  Downloading pgn2data-0.0.9-py3-none-any.whl.metadata (9.8 kB)\r\n",
      "Collecting chess (from pgn2data)\r\n",
      "  Downloading chess-1.10.0-py3-none-any.whl.metadata (19 kB)\r\n",
      "Requirement already satisfied: pandas in /opt/conda/lib/python3.10/site-packages (from pgn2data) (2.2.0)\r\n",
      "Requirement already satisfied: numpy<2,>=1.22.4 in /opt/conda/lib/python3.10/site-packages (from pandas->pgn2data) (1.24.4)\r\n",
      "Requirement already satisfied: python-dateutil>=2.8.2 in /opt/conda/lib/python3.10/site-packages (from pandas->pgn2data) (2.8.2)\r\n",
      "Requirement already satisfied: pytz>=2020.1 in /opt/conda/lib/python3.10/site-packages (from pandas->pgn2data) (2023.3.post1)\r\n",
      "Requirement already satisfied: tzdata>=2022.7 in /opt/conda/lib/python3.10/site-packages (from pandas->pgn2data) (2023.4)\r\n",
      "Requirement already satisfied: six>=1.5 in /opt/conda/lib/python3.10/site-packages (from python-dateutil>=2.8.2->pandas->pgn2data) (1.16.0)\r\n",
      "Downloading pgn2data-0.0.9-py3-none-any.whl (31 kB)\r\n",
      "Downloading chess-1.10.0-py3-none-any.whl (154 kB)\r\n",
      "\u001b[2K   \u001b[90m━━━━━━━━━━━━━━━━━━━━━━━━━━━━━━━━━━━━━━━━\u001b[0m \u001b[32m154.4/154.4 kB\u001b[0m \u001b[31m8.6 MB/s\u001b[0m eta \u001b[36m0:00:00\u001b[0m\r\n",
      "\u001b[?25hBuilding wheels for collected packages: converter\r\n",
      "  Building wheel for converter (setup.py) ... \u001b[?25l-\b \b\\\b \bdone\r\n",
      "\u001b[?25h  Created wheel for converter: filename=converter-1.0.0-py3-none-any.whl size=1751 sha256=414659f65d8e0d7f6526320c05c3e48422784a483952ad4f41ba37e391659cde\r\n",
      "  Stored in directory: /root/.cache/pip/wheels/fd/74/44/8a22cacdcff0e3a951e569210219b458168eba1e34f03e24f3\r\n",
      "Successfully built converter\r\n",
      "Installing collected packages: converter, chess, pgn2data\r\n",
      "Successfully installed chess-1.10.0 converter-1.0.0 pgn2data-0.0.9\r\n",
      "Note: you may need to restart the kernel to use updated packages.\n"
     ]
    }
   ],
   "source": [
    "pip install converter pgn2data"
   ]
  },
  {
   "cell_type": "code",
   "execution_count": 4,
   "id": "4b5f8319",
   "metadata": {
    "execution": {
     "iopub.execute_input": "2024-02-11T17:05:41.221473Z",
     "iopub.status.busy": "2024-02-11T17:05:41.221094Z",
     "iopub.status.idle": "2024-02-11T20:01:34.837383Z",
     "shell.execute_reply": "2024-02-11T20:01:34.836245Z"
    },
    "papermill": {
     "duration": 10553.624222,
     "end_time": "2024-02-11T20:01:34.840410",
     "exception": false,
     "start_time": "2024-02-11T17:05:41.216188",
     "status": "completed"
    },
    "tags": []
   },
   "outputs": [
    {
     "name": "stdout",
     "output_type": "stream",
     "text": [
      "is complete: True\n",
      "games file: games_2015_part_12_game_info.csv | size: 2455425\n",
      "moves file: games_2015_part_12_moves.csv | size: 328736219\n",
      "Processing /kaggle/working/pgn_2015_data/games_2015_part_12.pgn completed successfully.\n",
      "is complete: True\n",
      "games file: games_2015_part_11_game_info.csv | size: 2482995\n",
      "moves file: games_2015_part_11_moves.csv | size: 334667763\n",
      "Processing /kaggle/working/pgn_2015_data/games_2015_part_11.pgn completed successfully.\n",
      "is complete: True\n",
      "games file: games_2015_part_13_game_info.csv | size: 2418373\n",
      "moves file: games_2015_part_13_moves.csv | size: 338087481\n",
      "Processing /kaggle/working/pgn_2015_data/games_2015_part_13.pgn completed successfully.\n",
      "is complete: True\n",
      "games file: games_2015_part_14_game_info.csv | size: 2472055\n",
      "moves file: games_2015_part_14_moves.csv | size: 340129428\n",
      "Processing /kaggle/working/pgn_2015_data/games_2015_part_14.pgn completed successfully.\n",
      "is complete: True\n",
      "games file: games_2015_part_9_game_info.csv | size: 2437836\n",
      "moves file: games_2015_part_9_moves.csv | size: 343095893\n",
      "Processing /kaggle/working/pgn_2015_data/games_2015_part_9.pgn completed successfully.\n",
      "is complete: True\n",
      "games file: games_2015_part_20_game_info.csv | size: 2501422\n",
      "moves file: games_2015_part_20_moves.csv | size: 344449234\n",
      "Processing /kaggle/working/pgn_2015_data/games_2015_part_20.pgn completed successfully.\n",
      "is complete: True\n",
      "games file: games_2015_part_6_game_info.csv | size: 2434446\n",
      "moves file: games_2015_part_6_moves.csv | size: 350011855\n",
      "Processing /kaggle/working/pgn_2015_data/games_2015_part_6.pgn completed successfully.\n",
      "is complete: True\n",
      "games file: games_2015_part_21_game_info.csv | size: 2522363\n",
      "moves file: games_2015_part_21_moves.csv | size: 352605030\n",
      "Processing /kaggle/working/pgn_2015_data/games_2015_part_21.pgn completed successfully.\n",
      "is complete: True\n",
      "games file: games_2015_part_7_game_info.csv | size: 2423559\n",
      "moves file: games_2015_part_7_moves.csv | size: 350423976\n",
      "Processing /kaggle/working/pgn_2015_data/games_2015_part_7.pgn completed successfully.\n",
      "is complete: True\n",
      "games file: games_2015_part_10_game_info.csv | size: 2498397\n",
      "moves file: games_2015_part_10_moves.csv | size: 350134623\n",
      "Processing /kaggle/working/pgn_2015_data/games_2015_part_10.pgn completed successfully.\n",
      "is complete: True\n",
      "games file: games_2015_part_19_game_info.csv | size: 2509711\n",
      "moves file: games_2015_part_19_moves.csv | size: 362017610\n",
      "Processing /kaggle/working/pgn_2015_data/games_2015_part_19.pgn completed successfully.\n",
      "is complete: True\n",
      "games file: games_2015_part_16_game_info.csv | size: 2463737\n",
      "moves file: games_2015_part_16_moves.csv | size: 370573334\n",
      "Processing /kaggle/working/pgn_2015_data/games_2015_part_16.pgn completed successfully.\n",
      "is complete: True\n",
      "games file: games_2015_part_22_game_info.csv | size: 1083572\n",
      "moves file: games_2015_part_22_moves.csv | size: 148883292\n",
      "Processing /kaggle/working/pgn_2015_data/games_2015_part_22.pgn completed successfully.\n",
      "is complete: True\n",
      "games file: games_2015_part_4_game_info.csv | size: 2410253\n",
      "moves file: games_2015_part_4_moves.csv | size: 283787765\n",
      "Processing /kaggle/working/pgn_2015_data/games_2015_part_4.pgn completed successfully.\n",
      "is complete: True\n",
      "games file: games_2015_part_3_game_info.csv | size: 2508049\n",
      "moves file: games_2015_part_3_moves.csv | size: 323603754\n",
      "Processing /kaggle/working/pgn_2015_data/games_2015_part_3.pgn completed successfully.\n",
      "is complete: True\n",
      "games file: games_2015_part_1_game_info.csv | size: 2501093\n",
      "moves file: games_2015_part_1_moves.csv | size: 331711675\n",
      "Processing /kaggle/working/pgn_2015_data/games_2015_part_1.pgn completed successfully.\n",
      "is complete: True\n",
      "games file: games_2015_part_2_game_info.csv | size: 2453438\n",
      "moves file: games_2015_part_2_moves.csv | size: 338891675\n",
      "Processing /kaggle/working/pgn_2015_data/games_2015_part_2.pgn completed successfully.\n",
      "is complete: True\n",
      "games file: games_2015_part_17_game_info.csv | size: 2417046\n",
      "moves file: games_2015_part_17_moves.csv | size: 341157243\n",
      "Processing /kaggle/working/pgn_2015_data/games_2015_part_17.pgn completed successfully.\n",
      "is complete: True\n",
      "games file: games_2015_part_8_game_info.csv | size: 2438496\n",
      "moves file: games_2015_part_8_moves.csv | size: 346672743\n",
      "Processing /kaggle/working/pgn_2015_data/games_2015_part_8.pgn completed successfully.\n",
      "is complete: True\n",
      "games file: games_2015_part_18_game_info.csv | size: 2466336\n",
      "moves file: games_2015_part_18_moves.csv | size: 351168478\n",
      "Processing /kaggle/working/pgn_2015_data/games_2015_part_18.pgn completed successfully.\n",
      "is complete: True\n",
      "games file: games_2015_part_15_game_info.csv | size: 2521769\n",
      "moves file: games_2015_part_15_moves.csv | size: 352645782\n",
      "Processing /kaggle/working/pgn_2015_data/games_2015_part_15.pgn completed successfully.\n",
      "is complete: True\n",
      "games file: games_2015_part_5_game_info.csv | size: 2482069\n",
      "moves file: games_2015_part_5_moves.csv | size: 352605962\n",
      "Processing /kaggle/working/pgn_2015_data/games_2015_part_5.pgn completed successfully.\n"
     ]
    }
   ],
   "source": [
    "from converter.pgn_data import PGNData\n",
    "from concurrent.futures import ThreadPoolExecutor, as_completed\n",
    "import os\n",
    "\n",
    "# function to process pgn to csv with games info and moves csv files\n",
    "def process_pgn_file(pgn_file_path):\n",
    "\n",
    "    try:\n",
    "        pgn_data = PGNData(pgn_file_path)\n",
    "        result = pgn_data.export()\n",
    "        result.print_summary()  # Print summary of the export\n",
    "        return f\"Processing {pgn_file_path} completed successfully.\"\n",
    "    except Exception as e:\n",
    "        return f\"Error processing {pgn_file_path}: {e}\"\n",
    "\n",
    "# Process a list of PGN files in parallel\n",
    "def process_pgn_files_in_parallel(files):\n",
    "\n",
    "    with ThreadPoolExecutor(max_workers=15) as executor:\n",
    "        futures = {executor.submit(process_pgn_file, file): file for file in files}\n",
    "        for future in as_completed(futures):\n",
    "            print(future.result())\n",
    "\n",
    "# Path to the directory containing the PGN files\n",
    "pgn_directory = \"/kaggle/working/pgn_2015_data\"\n",
    "\n",
    "# Get all PGN files in the directory\n",
    "pgn_files = [os.path.join(pgn_directory, f) for f in os.listdir(pgn_directory) if f.endswith('.pgn')]\n",
    "\n",
    "# Process in batches of 12\n",
    "batch_size = 12\n",
    "for i in range(0, len(pgn_files), batch_size):\n",
    "    batch_files = pgn_files[i:i+batch_size]\n",
    "    process_pgn_files_in_parallel(batch_files)"
   ]
  },
  {
   "cell_type": "code",
   "execution_count": null,
   "id": "b8a7c4d7",
   "metadata": {
    "papermill": {
     "duration": 0.004416,
     "end_time": "2024-02-11T20:01:34.849835",
     "exception": false,
     "start_time": "2024-02-11T20:01:34.845419",
     "status": "completed"
    },
    "tags": []
   },
   "outputs": [],
   "source": []
  }
 ],
 "metadata": {
  "kaggle": {
   "accelerator": "none",
   "dataSources": [
    {
     "datasetId": 4413987,
     "sourceId": 7582587,
     "sourceType": "datasetVersion"
    }
   ],
   "dockerImageVersionId": 30646,
   "isGpuEnabled": false,
   "isInternetEnabled": true,
   "language": "python",
   "sourceType": "notebook"
  },
  "kernelspec": {
   "display_name": "Python 3",
   "language": "python",
   "name": "python3"
  },
  "language_info": {
   "codemirror_mode": {
    "name": "ipython",
    "version": 3
   },
   "file_extension": ".py",
   "mimetype": "text/x-python",
   "name": "python",
   "nbconvert_exporter": "python",
   "pygments_lexer": "ipython3",
   "version": "3.10.13"
  },
  "papermill": {
   "default_parameters": {},
   "duration": 10621.40874,
   "end_time": "2024-02-11T20:01:39.418184",
   "environment_variables": {},
   "exception": null,
   "input_path": "__notebook__.ipynb",
   "output_path": "__notebook__.ipynb",
   "parameters": {},
   "start_time": "2024-02-11T17:04:38.009444",
   "version": "2.5.0"
  }
 },
 "nbformat": 4,
 "nbformat_minor": 5
}
