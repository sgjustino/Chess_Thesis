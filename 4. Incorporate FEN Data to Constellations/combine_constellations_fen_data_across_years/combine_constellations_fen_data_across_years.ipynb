{
 "cells": [
  {
   "cell_type": "code",
   "execution_count": 1,
   "id": "0b7ec023",
   "metadata": {
    "_cell_guid": "b1076dfc-b9ad-4769-8c92-a6c4dae69d19",
    "_uuid": "8f2839f25d086af736a60e9eeb907d3b93b6e0e5",
    "execution": {
     "iopub.execute_input": "2024-02-23T14:58:14.254457Z",
     "iopub.status.busy": "2024-02-23T14:58:14.253461Z",
     "iopub.status.idle": "2024-02-23T14:58:15.417785Z",
     "shell.execute_reply": "2024-02-23T14:58:15.416473Z"
    },
    "papermill": {
     "duration": 1.173444,
     "end_time": "2024-02-23T14:58:15.420993",
     "exception": false,
     "start_time": "2024-02-23T14:58:14.247549",
     "status": "completed"
    },
    "tags": []
   },
   "outputs": [
    {
     "name": "stdout",
     "output_type": "stream",
     "text": [
      "/kaggle/input/5-2018-middle-game-fen-data/__results__.html\n",
      "/kaggle/input/5-2018-middle-game-fen-data/augmented_ctp_2018_data.csv\n",
      "/kaggle/input/5-2018-middle-game-fen-data/__notebook__.ipynb\n",
      "/kaggle/input/5-2018-middle-game-fen-data/middle_moves_2018_data.csv\n",
      "/kaggle/input/5-2018-middle-game-fen-data/__output__.json\n",
      "/kaggle/input/5-2018-middle-game-fen-data/custom.css\n",
      "/kaggle/input/5-2019-middle-game-fen-data/__results__.html\n",
      "/kaggle/input/5-2019-middle-game-fen-data/middle_moves_2019_data.csv\n",
      "/kaggle/input/5-2019-middle-game-fen-data/__notebook__.ipynb\n",
      "/kaggle/input/5-2019-middle-game-fen-data/augmented_ctp_2019_data.csv\n",
      "/kaggle/input/5-2019-middle-game-fen-data/__output__.json\n",
      "/kaggle/input/5-2019-middle-game-fen-data/custom.css\n",
      "/kaggle/input/5-2020-middle-game-fen-data/__results__.html\n",
      "/kaggle/input/5-2020-middle-game-fen-data/middle_moves_2020_data.csv\n",
      "/kaggle/input/5-2020-middle-game-fen-data/augmented_ctp_2020_data.csv\n",
      "/kaggle/input/5-2020-middle-game-fen-data/__notebook__.ipynb\n",
      "/kaggle/input/5-2020-middle-game-fen-data/__output__.json\n",
      "/kaggle/input/5-2020-middle-game-fen-data/custom.css\n",
      "/kaggle/input/5-2015-middle-game-fen-data/augmented_ctp_2015_data.csv\n",
      "/kaggle/input/5-2015-middle-game-fen-data/__results__.html\n",
      "/kaggle/input/5-2015-middle-game-fen-data/middle_moves_2015_data.csv\n",
      "/kaggle/input/5-2015-middle-game-fen-data/__notebook__.ipynb\n",
      "/kaggle/input/5-2015-middle-game-fen-data/__output__.json\n",
      "/kaggle/input/5-2015-middle-game-fen-data/custom.css\n",
      "/kaggle/input/5-2017-middle-game-fen-data/middle_moves_2017_data.csv\n",
      "/kaggle/input/5-2017-middle-game-fen-data/__results__.html\n",
      "/kaggle/input/5-2017-middle-game-fen-data/augmented_ctp_2017_data.csv\n",
      "/kaggle/input/5-2017-middle-game-fen-data/__notebook__.ipynb\n",
      "/kaggle/input/5-2017-middle-game-fen-data/__output__.json\n",
      "/kaggle/input/5-2017-middle-game-fen-data/custom.css\n",
      "/kaggle/input/5-2016-middle-game-fen-data/middle_moves_2016_data.csv\n",
      "/kaggle/input/5-2016-middle-game-fen-data/__results__.html\n",
      "/kaggle/input/5-2016-middle-game-fen-data/__notebook__.ipynb\n",
      "/kaggle/input/5-2016-middle-game-fen-data/__output__.json\n",
      "/kaggle/input/5-2016-middle-game-fen-data/augmented_ctp_2016_data.csv\n",
      "/kaggle/input/5-2016-middle-game-fen-data/custom.css\n",
      "/kaggle/input/5-2021-middle-game-fen-data/augmented_ctp_2021_data.csv\n",
      "/kaggle/input/5-2021-middle-game-fen-data/__results__.html\n",
      "/kaggle/input/5-2021-middle-game-fen-data/__notebook__.ipynb\n",
      "/kaggle/input/5-2021-middle-game-fen-data/__output__.json\n",
      "/kaggle/input/5-2021-middle-game-fen-data/middle_moves_2021_data.csv\n",
      "/kaggle/input/5-2021-middle-game-fen-data/custom.css\n"
     ]
    }
   ],
   "source": [
    "# This Python 3 environment comes with many helpful analytics libraries installed\n",
    "# It is defined by the kaggle/python Docker image: https://github.com/kaggle/docker-python\n",
    "# For example, here's several helpful packages to load\n",
    "\n",
    "import numpy as np # linear algebra\n",
    "import pandas as pd # data processing, CSV file I/O (e.g. pd.read_csv)\n",
    "\n",
    "# Input data files are available in the read-only \"../input/\" directory\n",
    "# For example, running this (by clicking run or pressing Shift+Enter) will list all files under the input directory\n",
    "\n",
    "import os\n",
    "for dirname, _, filenames in os.walk('/kaggle/input'):\n",
    "    for filename in filenames:\n",
    "        print(os.path.join(dirname, filename))\n",
    "\n",
    "# You can write up to 20GB to the current directory (/kaggle/working/) that gets preserved as output when you create a version using \"Save & Run All\" \n",
    "# You can also write temporary files to /kaggle/temp/, but they won't be saved outside of the current session"
   ]
  },
  {
   "cell_type": "code",
   "execution_count": 2,
   "id": "96dcf63e",
   "metadata": {
    "execution": {
     "iopub.execute_input": "2024-02-23T14:58:15.429937Z",
     "iopub.status.busy": "2024-02-23T14:58:15.428657Z",
     "iopub.status.idle": "2024-02-23T14:58:34.259111Z",
     "shell.execute_reply": "2024-02-23T14:58:34.257853Z"
    },
    "papermill": {
     "duration": 18.838265,
     "end_time": "2024-02-23T14:58:34.262460",
     "exception": false,
     "start_time": "2024-02-23T14:58:15.424195",
     "status": "completed"
    },
    "tags": []
   },
   "outputs": [],
   "source": [
    "import pandas as pd\n",
    "\n",
    "# List of file paths\n",
    "file_paths = [\n",
    "    \"/kaggle/input/5-2021-middle-game-fen-data/augmented_ctp_2021_data.csv\",\n",
    "    \"/kaggle/input/5-2020-middle-game-fen-data/augmented_ctp_2020_data.csv\",  \n",
    "    \"/kaggle/input/5-2019-middle-game-fen-data/augmented_ctp_2019_data.csv\",  \n",
    "    \"/kaggle/input/5-2018-middle-game-fen-data/augmented_ctp_2018_data.csv\",  \n",
    "    \"/kaggle/input/5-2017-middle-game-fen-data/augmented_ctp_2017_data.csv\",\n",
    "    \"/kaggle/input/5-2016-middle-game-fen-data/augmented_ctp_2016_data.csv\",\n",
    "    \"/kaggle/input/5-2015-middle-game-fen-data/augmented_ctp_2015_data.csv\"   \n",
    "]\n",
    "\n",
    "# Read each CSV file into a DataFrame and store them in a list\n",
    "dataframes = [pd.read_csv(fp) for fp in file_paths]\n",
    "\n",
    "# Concatenate all DataFrames into one\n",
    "combined_df = pd.concat(dataframes, ignore_index=True)\n",
    "\n",
    "# Save the combined DataFrame to a new CSV file\n",
    "combined_df.to_csv(\"ctp_all_years_fen_data.csv\", index=False)"
   ]
  }
 ],
 "metadata": {
  "kaggle": {
   "accelerator": "none",
   "dataSources": [
    {
     "sourceId": 163687953,
     "sourceType": "kernelVersion"
    },
    {
     "sourceId": 163688252,
     "sourceType": "kernelVersion"
    },
    {
     "sourceId": 163688558,
     "sourceType": "kernelVersion"
    },
    {
     "sourceId": 163688572,
     "sourceType": "kernelVersion"
    },
    {
     "sourceId": 163839753,
     "sourceType": "kernelVersion"
    },
    {
     "sourceId": 163840105,
     "sourceType": "kernelVersion"
    },
    {
     "sourceId": 163862826,
     "sourceType": "kernelVersion"
    }
   ],
   "dockerImageVersionId": 30646,
   "isGpuEnabled": false,
   "isInternetEnabled": true,
   "language": "python",
   "sourceType": "notebook"
  },
  "kernelspec": {
   "display_name": "Python 3",
   "language": "python",
   "name": "python3"
  },
  "language_info": {
   "codemirror_mode": {
    "name": "ipython",
    "version": 3
   },
   "file_extension": ".py",
   "mimetype": "text/x-python",
   "name": "python",
   "nbconvert_exporter": "python",
   "pygments_lexer": "ipython3",
   "version": "3.10.13"
  },
  "papermill": {
   "default_parameters": {},
   "duration": 24.221106,
   "end_time": "2024-02-23T14:58:34.991090",
   "environment_variables": {},
   "exception": null,
   "input_path": "__notebook__.ipynb",
   "output_path": "__notebook__.ipynb",
   "parameters": {},
   "start_time": "2024-02-23T14:58:10.769984",
   "version": "2.5.0"
  }
 },
 "nbformat": 4,
 "nbformat_minor": 5
}
